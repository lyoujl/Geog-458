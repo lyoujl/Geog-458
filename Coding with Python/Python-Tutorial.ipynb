{
 "cells": [
  {
   "cell_type": "markdown",
   "metadata": {},
   "source": [
    "Task 1:\n",
    "This [Jupyter notebook](https://ricardoduarte.github.io/python-for-developers/) is about Python development and introductory tutorials on the language.  I find it interesting due to my programming knowledge to be about Java and R.  I have no experience in Python and therefore could find this notebook useful."
   ]
  },
  {
   "cell_type": "markdown",
   "metadata": {},
   "source": [
    "Task 2 A: \n",
    "[matplotlib](https://matplotlib.org) is a library that makes making graphics and charts easy including plots, histograms, and scatterplots.  [BeautifulSoup](https://crummy.com/software/BeautifulSoup/) is a library that is really helpful for screen scraping which is copying data from a website.  It does this by parsing files.  [Numpy](https://www.numpy.org/) is a library that includes advanced math functionalities.  The list I got these from is [here](https://pythontips.com/2013/07/30/20-python-libraries-you-cant-live-without/)"
   ]
  },
  {
   "cell_type": "markdown",
   "metadata": {},
   "source": [
    "Task 2 B:\n",
    "[matplotlib](https://matplotlib.org) is a close choice to ggplot.  Both are libraries that allow for the plotting of graphics and charts including scatterplots and histograms."
   ]
  },
  {
   "cell_type": "markdown",
   "metadata": {},
   "source": [
    "Task 2 C:\n",
    "[Pandas](https://pandas.pydata.org) is a library that can analyze dataframes.  Pandas is a library that is used for data manipulation and analysis in general which means that it is used for dataframes."
   ]
  },
  {
   "cell_type": "markdown",
   "metadata": {},
   "source": [
    "Task 3: \n",
    "Making a function in Python is done with the line\n",
    "def <functionname>(<arguments>):\n",
    "rather than in R\n",
    "name <- function(<parameters>)\n",
    "\n",
    "Assigning values to variable names are only done with an equal sign rather than having the option to use <- or = in R\n",
    "\n",
    "Calling libraries in Python uses the import function while R uses library(<libraryname>)"
   ]
  },
  {
   "cell_type": "code",
   "execution_count": 19,
   "metadata": {},
   "outputs": [
    {
     "name": "stdout",
     "output_type": "stream",
     "text": [
      "Hello world!\n"
     ]
    }
   ],
   "source": [
    "one = \"Hello\"\n",
    "two = \"world\"\n",
    "three = \"!\"\n",
    "print(one + \" \" + two + three)"
   ]
  },
  {
   "cell_type": "code",
   "execution_count": 21,
   "metadata": {},
   "outputs": [
    {
     "name": "stdout",
     "output_type": "stream",
     "text": [
      "HELLO WORLD 458!\n"
     ]
    }
   ],
   "source": [
    "one = \"Hello\"\n",
    "two = \"world\"\n",
    "three = \"!\"\n",
    "number = 458\n",
    "print(one + \" \" + two + \" \" + str(number) + three).upper()"
   ]
  },
  {
   "cell_type": "code",
   "execution_count": 39,
   "metadata": {},
   "outputs": [
    {
     "name": "stdout",
     "output_type": "stream",
     "text": [
      "3\n",
      "1\n"
     ]
    }
   ],
   "source": [
    "one = \"Hello\"\n",
    "two = \"world\"\n",
    "three = \"!\"\n",
    "number = 458\n",
    "string_list = list(one + \" \" + two + \" \" + str(number) + three)\n",
    "full_sentence = \"\".join(string_list)\n",
    "print(string_list.count('l'))\n",
    "print(full_sentence.find('ello'))"
   ]
  },
  {
   "cell_type": "code",
   "execution_count": 59,
   "metadata": {},
   "outputs": [
    {
     "name": "stdout",
     "output_type": "stream",
     "text": [
      "Hello wo\n"
     ]
    }
   ],
   "source": [
    "one = \"Hello\"\n",
    "two = \"world\"\n",
    "three = \"!\"\n",
    "number = 458\n",
    "sentence = one + \" \" + two + \" \" + str(number) + three\n",
    "print(sentence[slice(len(sentence)/2)])"
   ]
  },
  {
   "cell_type": "code",
   "execution_count": 61,
   "metadata": {},
   "outputs": [
    {
     "name": "stdout",
     "output_type": "stream",
     "text": [
      "Hello world !\n",
      "Hello you !\n"
     ]
    }
   ],
   "source": [
    "one = \"Hello\"\n",
    "two = \"world\"\n",
    "three = \"!\"\n",
    "number = 458\n",
    "sentence = one + \" \" + two + \" \" + str(number) + three\n",
    "no_number = sentence.replace(\"458\", \"\")\n",
    "print(no_number)\n",
    "print(no_number.replace(\"world\", \"you\"))"
   ]
  },
  {
   "cell_type": "code",
   "execution_count": 64,
   "metadata": {},
   "outputs": [
    {
     "name": "stdout",
     "output_type": "stream",
     "text": [
      "['Hello', 'world', 'and', '458!']\n"
     ]
    }
   ],
   "source": [
    "one = \"Hello\"\n",
    "two = \"world\"\n",
    "three = \"!\"\n",
    "number = 458\n",
    "sentence = one + \" \" + two + \" \" + str(number) + three\n",
    "sentence = sentence.split()\n",
    "sentence.insert(2, \"and\")\n",
    "print(sentence)"
   ]
  },
  {
   "cell_type": "code",
   "execution_count": 107,
   "metadata": {},
   "outputs": [
    {
     "name": "stdout",
     "output_type": "stream",
     "text": [
      "46\n",
      "Second Quartile\n"
     ]
    }
   ],
   "source": [
    "import random\n",
    "r = random.randint(1, 100)\n",
    "print(r)\n",
    "if(r <= 25):\n",
    "    print(\"First Quartile\")\n",
    "elif(r <= 50):\n",
    "    print(\"Second Quartile\")\n",
    "elif(r <= 75):\n",
    "    print(\"Third Quartile\")\n",
    "else:\n",
    "    print(\"Fourth Quartile\")"
   ]
  },
  {
   "cell_type": "code",
   "execution_count": 97,
   "metadata": {},
   "outputs": [
    {
     "name": "stdout",
     "output_type": "stream",
     "text": [
      "Warning, residents of Seattle, temperatures will reach sub-zero temperatures today, please stay indoors if possible\n",
      "Warning, residents of Los Angeles, temperatures will reach sub-zero temperatures today, please stay indoors if possible\n",
      "Warning, residents of Columbus, temperatures will reach sub-zero temperatures today, please stay indoors if possible\n",
      "Warning, residents of Rochester, temperatures will reach sub-zero temperatures today, please stay indoors if possible\n",
      "Warning, residents of Orlando, temperatures will reach sub-zero temperatures today, please stay indoors if possible\n",
      "Warning, residents of Atlanta, temperatures will reach sub-zero temperatures today, please stay indoors if possible\n"
     ]
    }
   ],
   "source": [
    "cities = [\"Seattle\", \"Los Angeles\", \"Columbus\", \"Rochester\", \"Orlando\", \"Atlanta\"]\n",
    "for city in cities:\n",
    "    print(\"Warning, residents of \" + city + \", temperatures will reach sub-zero temperatures today, please stay indoors if possible\")"
   ]
  },
  {
   "cell_type": "code",
   "execution_count": 109,
   "metadata": {},
   "outputs": [
    {
     "name": "stdout",
     "output_type": "stream",
     "text": [
      "Washington.shp\n",
      "California.shp\n",
      "Nevada.shp\n",
      "Idaho.shp\n",
      "Montana.shp\n",
      "Utah.shp\n",
      "Colorado.shp\n",
      "New Mexico.shp\n",
      "['This PC/Desktop/Geog 458/Python-Intro/Washington.shp', 'This PC/Desktop/Geog 458/Python-Intro/California.shp', 'This PC/Desktop/Geog 458/Python-Intro/Nevada.shp', 'This PC/Desktop/Geog 458/Python-Intro/Idaho.shp', 'This PC/Desktop/Geog 458/Python-Intro/Montana.shp', 'This PC/Desktop/Geog 458/Python-Intro/Utah.shp', 'This PC/Desktop/Geog 458/Python-Intro/Colorado.shp', 'This PC/Desktop/Geog 458/Python-Intro/New Mexico.shp']\n"
     ]
    }
   ],
   "source": [
    "states = [\"Washington\", \"California\", \"Nevada\", \"Idaho\", \"Montana\", \"Utah\", \"Colorado\", \"New Mexico\"]\n",
    "results = []\n",
    "for state in states:\n",
    "    print(state + \".shp\")\n",
    "    results.append(\"This PC/Desktop/Geog 458/Python-Intro/\" + state + \".shp\")\n",
    "    \n",
    "print(results)"
   ]
  },
  {
   "cell_type": "code",
   "execution_count": 116,
   "metadata": {},
   "outputs": [
    {
     "name": "stdout",
     "output_type": "stream",
     "text": [
      "T-minus 10\n",
      "T-minus 9\n",
      "T-minus 8\n",
      "T-minus 7\n",
      "T-minus 6\n",
      "T-minus 5\n",
      "T-minus 4\n",
      "T-minus 3\n",
      "T-minus 2\n",
      "T-minus 1\n",
      "T-minus 0\n"
     ]
    }
   ],
   "source": [
    "counter = 10\n",
    "while(counter >= 0):\n",
    "    print(\"T-minus \" + str(counter))\n",
    "    counter = counter - 1"
   ]
  },
  {
   "cell_type": "code",
   "execution_count": 118,
   "metadata": {},
   "outputs": [
    {
     "name": "stdout",
     "output_type": "stream",
     "text": [
      "T-minus 20\n",
      "T-minus 19\n",
      "T-minus 18\n",
      "T-minus 17\n",
      "T-minus 16\n",
      "T-minus 15\n",
      "T-minus 14\n",
      "T-minus 13\n",
      "T-minus 12\n",
      "T-minus 11\n",
      "T-minus 10\n",
      "T-minus 9\n",
      "T-minus 8\n",
      "T-minus 7\n",
      "T-minus 6\n",
      "T-minus 5\n",
      "T-minus 4\n",
      "T-minus 3\n",
      "T-minus 2\n",
      "T-minus 1\n",
      "T-minus 0\n"
     ]
    }
   ],
   "source": [
    "def countdown(x):\n",
    "    counter = x\n",
    "    while(counter >= 0):\n",
    "        print(\"T-minus \" + str(counter))\n",
    "        counter = counter - 1\n",
    "countdown(20)"
   ]
  },
  {
   "cell_type": "code",
   "execution_count": 127,
   "metadata": {},
   "outputs": [
    {
     "name": "stdout",
     "output_type": "stream",
     "text": [
      "Error.  Please input a number between 0 and 100\n",
      "First Quartile\n",
      "Second Quartile\n",
      "Third Quartile\n",
      "Fourth Quartile\n",
      "Error.  Please input a number between 0 and 100\n"
     ]
    }
   ],
   "source": [
    "def quartile_calc(x):\n",
    "    if(x < 0 or x > 100):\n",
    "        print(\"Error.  Please input a number between 0 and 100\")\n",
    "    elif(x <= 25):\n",
    "        print(\"First Quartile\")\n",
    "    elif(x <= 50):\n",
    "        print(\"Second Quartile\")\n",
    "    elif(x <= 75):\n",
    "        print(\"Third Quartile\")\n",
    "    elif(x <= 100):\n",
    "        print(\"Fourth Quartile\")\n",
    "    \n",
    "quartile_calc(-2)\n",
    "quartile_calc(15)\n",
    "quartile_calc(33)\n",
    "quartile_calc(59)\n",
    "quartile_calc(92)\n",
    "quartile_calc(101)"
   ]
  }
 ],
 "metadata": {
  "kernelspec": {
   "display_name": "Python 2",
   "language": "python",
   "name": "python2"
  },
  "language_info": {
   "codemirror_mode": {
    "name": "ipython",
    "version": 2
   },
   "file_extension": ".py",
   "mimetype": "text/x-python",
   "name": "python",
   "nbconvert_exporter": "python",
   "pygments_lexer": "ipython2",
   "version": "2.7.15"
  }
 },
 "nbformat": 4,
 "nbformat_minor": 2
}
